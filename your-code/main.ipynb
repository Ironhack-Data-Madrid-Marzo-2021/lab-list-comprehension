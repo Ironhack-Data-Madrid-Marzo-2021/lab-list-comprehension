{
 "cells": [
  {
   "cell_type": "markdown",
   "metadata": {},
   "source": [
    "# List Comprehensions Lab\n",
    "\n",
    "Complete the following set of exercises to solidify your knowledge of list comprehensions."
   ]
  },
  {
   "cell_type": "code",
   "execution_count": 1,
   "metadata": {},
   "outputs": [],
   "source": [
    "import os\n",
    "import numpy as np\n",
    "import pandas as pd"
   ]
  },
  {
   "cell_type": "markdown",
   "metadata": {},
   "source": [
    "### 1. Use a list comprehension to create a list of consecutive integers starting with 1 and ending with 50."
   ]
  },
  {
   "cell_type": "code",
   "execution_count": 2,
   "metadata": {},
   "outputs": [
    {
     "name": "stdout",
     "output_type": "stream",
     "text": [
      "[1, 2, 3, 4, 5, 6, 7, 8, 9, 10, 11, 12, 13, 14, 15, 16, 17, 18, 19, 20, 21, 22, 23, 24, 25, 26, 27, 28, 29, 30, 31, 32, 33, 34, 35, 36, 37, 38, 39, 40, 41, 42, 43, 44, 45, 46, 47, 48, 49, 50]\n"
     ]
    }
   ],
   "source": [
    "lista_enteros = [k for k in range(1,51)]\n",
    "print (lista_enteros)"
   ]
  },
  {
   "cell_type": "markdown",
   "metadata": {},
   "source": [
    "### 2. Use a list comprehension to create a list of even numbers starting with 2 and ending with 200."
   ]
  },
  {
   "cell_type": "code",
   "execution_count": 3,
   "metadata": {},
   "outputs": [
    {
     "name": "stdout",
     "output_type": "stream",
     "text": [
      "[2, 4, 6, 8, 10, 12, 14, 16, 18, 20, 22, 24, 26, 28, 30, 32, 34, 36, 38, 40, 42, 44, 46, 48, 50, 52, 54, 56, 58, 60, 62, 64, 66, 68, 70, 72, 74, 76, 78, 80, 82, 84, 86, 88, 90, 92, 94, 96, 98, 100, 102, 104, 106, 108, 110, 112, 114, 116, 118, 120, 122, 124, 126, 128, 130, 132, 134, 136, 138, 140, 142, 144, 146, 148, 150, 152, 154, 156, 158, 160, 162, 164, 166, 168, 170, 172, 174, 176, 178, 180, 182, 184, 186, 188, 190, 192, 194, 196, 198, 200]\n",
      "[2, 4, 6, 8, 10, 12, 14, 16, 18, 20, 22, 24, 26, 28, 30, 32, 34, 36, 38, 40, 42, 44, 46, 48, 50, 52, 54, 56, 58, 60, 62, 64, 66, 68, 70, 72, 74, 76, 78, 80, 82, 84, 86, 88, 90, 92, 94, 96, 98, 100, 102, 104, 106, 108, 110, 112, 114, 116, 118, 120, 122, 124, 126, 128, 130, 132, 134, 136, 138, 140, 142, 144, 146, 148, 150, 152, 154, 156, 158, 160, 162, 164, 166, 168, 170, 172, 174, 176, 178, 180, 182, 184, 186, 188, 190, 192, 194, 196, 198, 200]\n"
     ]
    }
   ],
   "source": [
    "lista_pares1 = [k for k in range(2,201, 2)]\n",
    "print(lista_pares1)\n",
    "\n",
    "lista_pares2 = [l for l in range(2,201) if l % 2 == 0]\n",
    "print (lista_pares2)"
   ]
  },
  {
   "cell_type": "markdown",
   "metadata": {},
   "source": [
    "### 3. Use a list comprehension to create a list with the same elements rounded to 2 decimal positions."
   ]
  },
  {
   "cell_type": "code",
   "execution_count": 4,
   "metadata": {},
   "outputs": [],
   "source": [
    "a = [\n",
    "    0.84062117, 0.48006452, 0.7876326 , 0.77109654,\n",
    "    0.44409793, 0.09014516, 0.81835917, 0.87645456,\n",
    "    0.7066597 , 0.09610873, 0.41247947, 0.57433389,\n",
    "    0.29960807, 0.42315023, 0.34452557, 0.4751035 ,\n",
    "    0.17003563, 0.46843998, 0.92796258, 0.69814654,\n",
    "    0.41290051, 0.19561071, 0.16284783, 0.97016248,\n",
    "    0.71725408, 0.87702738, 0.31244595, 0.76615487,\n",
    "    0.20754036, 0.57871812, 0.07214068, 0.40356048,\n",
    "    0.12149553, 0.53222417, 0.9976855 , 0.12536346,\n",
    "    0.80930099, 0.50962849, 0.94555126, 0.33364763\n",
    "]"
   ]
  },
  {
   "cell_type": "code",
   "execution_count": 5,
   "metadata": {},
   "outputs": [
    {
     "name": "stdout",
     "output_type": "stream",
     "text": [
      "[0.84, 0.48, 0.79, 0.77, 0.44, 0.09, 0.82, 0.88, 0.71, 0.1, 0.41, 0.57, 0.3, 0.42, 0.34, 0.48, 0.17, 0.47, 0.93, 0.7, 0.41, 0.2, 0.16, 0.97, 0.72, 0.88, 0.31, 0.77, 0.21, 0.58, 0.07, 0.4, 0.12, 0.53, 1.0, 0.13, 0.81, 0.51, 0.95, 0.33]\n"
     ]
    }
   ],
   "source": [
    "a_redondeada = [round(k,2) for k in a]\n",
    "print(a_redondeada)"
   ]
  },
  {
   "cell_type": "markdown",
   "metadata": {},
   "source": [
    "### 3b. Add a condition to the list comprehension above so that only a sublist with values greater than or equal to 0.6 are considered."
   ]
  },
  {
   "cell_type": "code",
   "execution_count": 6,
   "metadata": {},
   "outputs": [
    {
     "name": "stdout",
     "output_type": "stream",
     "text": [
      "[0.84, 0.79, 0.77, 0.82, 0.88, 0.71, 0.93, 0.7, 0.97, 0.72, 0.88, 0.77, 1.0, 0.81, 0.95]\n"
     ]
    }
   ],
   "source": [
    "a_reducida = [round(k,2) for k in a if k >= 0.6]\n",
    "print(a_reducida)"
   ]
  },
  {
   "cell_type": "markdown",
   "metadata": {},
   "source": [
    "### 4. Use a list comprehension to increase all ages in the list by 4 years."
   ]
  },
  {
   "cell_type": "code",
   "execution_count": 7,
   "metadata": {},
   "outputs": [],
   "source": [
    "ages = [17, 29, 12, 88, 30, 55]"
   ]
  },
  {
   "cell_type": "code",
   "execution_count": 8,
   "metadata": {},
   "outputs": [
    {
     "name": "stdout",
     "output_type": "stream",
     "text": [
      "[21, 33, 16, 92, 34, 59]\n"
     ]
    }
   ],
   "source": [
    "edades_futuras = [k + 4 for k in ages]\n",
    "print (edades_futuras)"
   ]
  },
  {
   "cell_type": "markdown",
   "metadata": {},
   "source": [
    "### 5. Create this list [-10,-9,-8,-7,-6,-5,-4,-3,-2,-1,0] using list comprehension"
   ]
  },
  {
   "cell_type": "code",
   "execution_count": 9,
   "metadata": {},
   "outputs": [
    {
     "name": "stdout",
     "output_type": "stream",
     "text": [
      "[-10, -9, -8, -7, -6, -5, -4, -3, -2, -1, 0]\n"
     ]
    }
   ],
   "source": [
    "numeros_negativos = [k for k in range (-10, 1)]\n",
    "print(numeros_negativos)"
   ]
  },
  {
   "cell_type": "markdown",
   "metadata": {},
   "source": [
    "### 6. Calculate the square root of the first 100 numbers. \n",
    "You will probably need to install math library with pip and import it in this file.  \n",
    "Remember to use list comprehensions and to print your results"
   ]
  },
  {
   "cell_type": "code",
   "execution_count": 10,
   "metadata": {},
   "outputs": [
    {
     "name": "stdout",
     "output_type": "stream",
     "text": [
      "[0.0, 1.0, 1.4142135623730951, 1.7320508075688772, 2.0, 2.23606797749979, 2.449489742783178, 2.6457513110645907, 2.8284271247461903, 3.0, 3.1622776601683795, 3.3166247903554, 3.4641016151377544, 3.605551275463989, 3.7416573867739413, 3.872983346207417, 4.0, 4.123105625617661, 4.242640687119285, 4.358898943540674, 4.47213595499958, 4.58257569495584, 4.69041575982343, 4.795831523312719, 4.898979485566356, 5.0, 5.0990195135927845, 5.196152422706632, 5.291502622129181, 5.385164807134504, 5.477225575051661, 5.5677643628300215, 5.656854249492381, 5.744562646538029, 5.830951894845301, 5.916079783099616, 6.0, 6.082762530298219, 6.164414002968976, 6.244997998398398, 6.324555320336759, 6.4031242374328485, 6.48074069840786, 6.557438524302, 6.6332495807108, 6.708203932499369, 6.782329983125268, 6.855654600401044, 6.928203230275509, 7.0, 7.0710678118654755, 7.14142842854285, 7.211102550927978, 7.280109889280518, 7.3484692283495345, 7.416198487095663, 7.483314773547883, 7.54983443527075, 7.615773105863909, 7.681145747868608, 7.745966692414834, 7.810249675906654, 7.874007874011811, 7.937253933193772, 8.0, 8.06225774829855, 8.12403840463596, 8.18535277187245, 8.246211251235321, 8.306623862918075, 8.366600265340756, 8.426149773176359, 8.48528137423857, 8.54400374531753, 8.602325267042627, 8.660254037844387, 8.717797887081348, 8.774964387392123, 8.831760866327848, 8.888194417315589, 8.94427190999916, 9.0, 9.055385138137417, 9.1104335791443, 9.16515138991168, 9.219544457292887, 9.273618495495704, 9.327379053088816, 9.38083151964686, 9.433981132056603, 9.486832980505138, 9.539392014169456, 9.591663046625438, 9.643650760992955, 9.695359714832659, 9.746794344808963, 9.797958971132712, 9.848857801796104, 9.899494936611665, 9.9498743710662, 10.0]\n",
      "[0.0, 1.0, 1.4142, 1.7321, 2.0, 2.2361, 2.4495, 2.6458, 2.8284, 3.0, 3.1623, 3.3166, 3.4641, 3.6056, 3.7417, 3.873, 4.0, 4.1231, 4.2426, 4.3589, 4.4721, 4.5826, 4.6904, 4.7958, 4.899, 5.0, 5.099, 5.1962, 5.2915, 5.3852, 5.4772, 5.5678, 5.6569, 5.7446, 5.831, 5.9161, 6.0, 6.0828, 6.1644, 6.245, 6.3246, 6.4031, 6.4807, 6.5574, 6.6332, 6.7082, 6.7823, 6.8557, 6.9282, 7.0, 7.0711, 7.1414, 7.2111, 7.2801, 7.3485, 7.4162, 7.4833, 7.5498, 7.6158, 7.6811, 7.746, 7.8102, 7.874, 7.9373, 8.0, 8.0623, 8.124, 8.1854, 8.2462, 8.3066, 8.3666, 8.4261, 8.4853, 8.544, 8.6023, 8.6603, 8.7178, 8.775, 8.8318, 8.8882, 8.9443, 9.0, 9.0554, 9.1104, 9.1652, 9.2195, 9.2736, 9.3274, 9.3808, 9.434, 9.4868, 9.5394, 9.5917, 9.6437, 9.6954, 9.7468, 9.798, 9.8489, 9.8995, 9.9499, 10.0]\n"
     ]
    }
   ],
   "source": [
    "import math\n",
    "\n",
    "raices = [math.sqrt(k) for k in range(0, 101)]\n",
    "print (raices)\n",
    "\n",
    "raices_round = [round(math.sqrt(k), 4) for k in range(0, 101)]\n",
    "print (raices_round)"
   ]
  },
  {
   "cell_type": "markdown",
   "metadata": {},
   "source": [
    "### 7. Find the capital letters (and not white space) in the sentence 'The Quick Brown Fox Jumped Over The Lazy Dog'. \n",
    "Remember to use list comprehensions and to print your results"
   ]
  },
  {
   "cell_type": "code",
   "execution_count": 11,
   "metadata": {},
   "outputs": [],
   "source": [
    "sentence = \"The Quick Brown Fox Jumped Over The Lazy Dog\""
   ]
  },
  {
   "cell_type": "code",
   "execution_count": 12,
   "metadata": {},
   "outputs": [
    {
     "name": "stdout",
     "output_type": "stream",
     "text": [
      "['T', 'Q', 'B', 'F', 'J', 'O', 'T', 'L', 'D']\n"
     ]
    }
   ],
   "source": [
    "mayusculas_frase = [k for k in sentence if k.isupper()]\n",
    "print (mayusculas_frase)"
   ]
  },
  {
   "cell_type": "markdown",
   "metadata": {},
   "source": [
    "## 8. Create 4 lists of 10 random numbers between 0 and 100 each. \n",
    "You will probably need to import random module    \n",
    "Remember to use list comprehensions and to print your results"
   ]
  },
  {
   "cell_type": "code",
   "execution_count": 25,
   "metadata": {},
   "outputs": [
    {
     "name": "stdout",
     "output_type": "stream",
     "text": [
      "[0, 43, 49, 25, 99, 62, 75, 21, 85, 29]\n",
      "[83, 45, 2, 87, 0, 31, 34, 9, 6, 71]\n",
      "[20, 29, 80, 57, 52, 6, 62, 14, 65, 84]\n",
      "[18, 28, 72, 3, 8, 41, 74, 27, 44, 59]\n",
      "[0, 20, 14, 72, 49, 77, 39, 89, 15, 34]\n",
      "[[66, 4, 9, 43, 83, 77, 73, 7, 13, 81], [86, 6, 73, 51, 30, 21, 53, 25, 18, 37], [61, 92, 87, 22, 51, 47, 75, 43, 15, 88], [8, 15, 48, 12, 85, 79, 52, 70, 10, 54]]\n"
     ]
    }
   ],
   "source": [
    "import random\n",
    "\n",
    "aleatoria_01 = [random.randint(0,101) for i in range(10)]\n",
    "aleatoria_02 = [random.randint(0,101) for i in range(10)]\n",
    "aleatoria_03 = [random.randint(0,101) for i in range(10)]\n",
    "aleatoria_04 = [random.randint(0,101) for i in range(10)]\n",
    "\n",
    "print (aleatoria_01)\n",
    "print (aleatoria_02)\n",
    "print (aleatoria_03)\n",
    "print (aleatoria_04)\n",
    "\n",
    "aleatoria_01b = random.sample(range(100), 10)\n",
    "print(aleatoria_01b)\n",
    "\n",
    "aleatoria_maxima = [random.sample(range(0,100), 10) for i in range(4)]\n",
    "print(aleatoria_maxima)"
   ]
  },
  {
   "cell_type": "markdown",
   "metadata": {},
   "source": [
    "## 9. Flatten the following list of lists. Use flatten_list as the name of the output.\n",
    "Remember to use list comprehensions and to print your results\n"
   ]
  },
  {
   "cell_type": "code",
   "execution_count": 4,
   "metadata": {},
   "outputs": [],
   "source": [
    "list_of_lists = [[1,2,3],[4,5,6],[7,8,9]]"
   ]
  },
  {
   "cell_type": "code",
   "execution_count": 14,
   "metadata": {},
   "outputs": [
    {
     "name": "stdout",
     "output_type": "stream",
     "text": [
      "1\n",
      "2\n",
      "3\n",
      "4\n",
      "5\n",
      "6\n",
      "7\n",
      "8\n",
      "9\n",
      "[1, 2, 3, 4, 5, 6, 7, 8, 9]\n"
     ]
    }
   ],
   "source": [
    "#for i, k in enumerate(list_of_lists):\n",
    "#    for k in list_of_lists[i]:\n",
    "#        print (k)\n",
    "\n",
    "flatten_list = [k for i, k in enumerate(list_of_lists) for k in list_of_lists[i]]\n",
    "\n",
    "print (flatten_list)\n",
    "\n",
    "#el siguiente código no es mio, es solo que me ha gustado más y quería guardarlo.\n",
    "#flatten_list = [num for item in list_of_lists for num in item]\n",
    "#print (flatten_list)\n",
    "    "
   ]
  },
  {
   "cell_type": "markdown",
   "metadata": {},
   "source": [
    "### 10. Use a dict comprehension which has: one key per element on list `lst`, and as values is the first letter of the given word."
   ]
  },
  {
   "cell_type": "code",
   "execution_count": 26,
   "metadata": {},
   "outputs": [],
   "source": [
    "lst = [\"table\", \"chair\", \"mouse\", \"slack\", \"tree\"]"
   ]
  },
  {
   "cell_type": "code",
   "execution_count": 27,
   "metadata": {},
   "outputs": [
    {
     "name": "stdout",
     "output_type": "stream",
     "text": [
      "{'table': 't', 'chair': 'c', 'mouse': 'm', 'slack': 's', 'tree': 't'}\n"
     ]
    }
   ],
   "source": [
    "empieza_por = {k : k[0] for k in lst}\n",
    "print (empieza_por)"
   ]
  },
  {
   "cell_type": "markdown",
   "metadata": {},
   "source": [
    "### 11. Use a dict comprehension which has: one key per element on list `lst` if the word starts with \"t\", and as values the given word in upper case."
   ]
  },
  {
   "cell_type": "code",
   "execution_count": 28,
   "metadata": {},
   "outputs": [
    {
     "name": "stdout",
     "output_type": "stream",
     "text": [
      "{'table': 'TABLE', 'tree': 'TREE'}\n"
     ]
    }
   ],
   "source": [
    "en_mayusculas = {k : k.upper() for k in lst if k[0].lower() == 't'}\n",
    "print (en_mayusculas)"
   ]
  },
  {
   "cell_type": "markdown",
   "metadata": {},
   "source": [
    "### 12. Use a dict comprehension to \"invert\" the following dictionary."
   ]
  },
  {
   "cell_type": "code",
   "execution_count": 29,
   "metadata": {},
   "outputs": [],
   "source": [
    "capitals = {\n",
    "    \"Spain\": \"Madrid\",\n",
    "    \"Portugal\": \"Lisbon\",\n",
    "    \"France\": \"Paris\"\n",
    "}"
   ]
  },
  {
   "cell_type": "code",
   "execution_count": 30,
   "metadata": {},
   "outputs": [
    {
     "name": "stdout",
     "output_type": "stream",
     "text": [
      "{'Madrid': 'Spain', 'Lisbon': 'Portugal', 'Paris': 'France'}\n"
     ]
    }
   ],
   "source": [
    "ciudades = {v : k for k, v in capitals.items()}\n",
    "print (ciudades)"
   ]
  },
  {
   "cell_type": "markdown",
   "metadata": {},
   "source": [
    "### 13. Do you see any possible problem on the procedure of \"inverting\" a dictionary? Explain in a Markdown cell."
   ]
  },
  {
   "cell_type": "code",
   "execution_count": null,
   "metadata": {},
   "outputs": [],
   "source": [
    "# Que haya algún valor en el primer diccionario que esté duplicado y al invertirlo en el segundo diccionario perdamos algún\n",
    "#item ya que no puede haber claves repetidas."
   ]
  }
 ],
 "metadata": {
  "kernelspec": {
   "display_name": "Python 3",
   "language": "python",
   "name": "python3"
  },
  "language_info": {
   "codemirror_mode": {
    "name": "ipython",
    "version": 3
   },
   "file_extension": ".py",
   "mimetype": "text/x-python",
   "name": "python",
   "nbconvert_exporter": "python",
   "pygments_lexer": "ipython3",
   "version": "3.8.5"
  },
  "toc": {
   "base_numbering": 1,
   "nav_menu": {},
   "number_sections": false,
   "sideBar": true,
   "skip_h1_title": false,
   "title_cell": "Table of Contents",
   "title_sidebar": "Contents",
   "toc_cell": false,
   "toc_position": {
    "height": "calc(100% - 180px)",
    "left": "10px",
    "top": "150px",
    "width": "256px"
   },
   "toc_section_display": true,
   "toc_window_display": false
  },
  "varInspector": {
   "cols": {
    "lenName": 16,
    "lenType": 16,
    "lenVar": 40
   },
   "kernels_config": {
    "python": {
     "delete_cmd_postfix": "",
     "delete_cmd_prefix": "del ",
     "library": "var_list.py",
     "varRefreshCmd": "print(var_dic_list())"
    },
    "r": {
     "delete_cmd_postfix": ") ",
     "delete_cmd_prefix": "rm(",
     "library": "var_list.r",
     "varRefreshCmd": "cat(var_dic_list()) "
    }
   },
   "types_to_exclude": [
    "module",
    "function",
    "builtin_function_or_method",
    "instance",
    "_Feature"
   ],
   "window_display": false
  }
 },
 "nbformat": 4,
 "nbformat_minor": 2
}
