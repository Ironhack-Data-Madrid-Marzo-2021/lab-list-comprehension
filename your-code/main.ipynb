{
 "cells": [
  {
   "cell_type": "markdown",
   "metadata": {},
   "source": [
    "# List Comprehensions Lab\n",
    "\n",
    "Complete the following set of exercises to solidify your knowledge of list comprehensions."
   ]
  },
  {
   "cell_type": "code",
   "execution_count": 1,
   "metadata": {},
   "outputs": [],
   "source": [
    "import os\n",
    "import numpy as np\n",
    "import pandas as pd"
   ]
  },
  {
   "cell_type": "markdown",
   "metadata": {},
   "source": [
    "### 1. Use a list comprehension to create a list of consecutive integers starting with 1 and ending with 50."
   ]
  },
  {
   "cell_type": "code",
   "execution_count": 1,
   "metadata": {},
   "outputs": [
    {
     "name": "stdout",
     "output_type": "stream",
     "text": [
      "[0, 1, 2, 3, 4, 5, 6, 7, 8, 9, 10, 11, 12, 13, 14, 15, 16, 17, 18, 19, 20, 21, 22, 23, 24, 25, 26, 27, 28, 29, 30, 31, 32, 33, 34, 35, 36, 37, 38, 39, 40, 41, 42, 43, 44, 45, 46, 47, 48, 49, 50]\n"
     ]
    }
   ],
   "source": [
    "numeros=[n for n in range(51)]\n",
    "print(numeros)"
   ]
  },
  {
   "cell_type": "markdown",
   "metadata": {},
   "source": [
    "### 2. Use a list comprehension to create a list of even numbers starting with 2 and ending with 200."
   ]
  },
  {
   "cell_type": "code",
   "execution_count": 8,
   "metadata": {},
   "outputs": [
    {
     "name": "stdout",
     "output_type": "stream",
     "text": [
      "[0, 2, 4, 6, 8, 10, 12, 14, 16, 18, 20, 22, 24, 26, 28, 30, 32, 34, 36, 38, 40, 42, 44, 46, 48, 50, 52, 54, 56, 58, 60, 62, 64, 66, 68, 70, 72, 74, 76, 78, 80, 82, 84, 86, 88, 90, 92, 94, 96, 98, 100, 102, 104, 106, 108, 110, 112, 114, 116, 118, 120, 122, 124, 126, 128, 130, 132, 134, 136, 138, 140, 142, 144, 146, 148, 150, 152, 154, 156, 158, 160, 162, 164, 166, 168, 170, 172, 174, 176, 178, 180, 182, 184, 186, 188, 190, 192, 194, 196, 198, 200]\n"
     ]
    }
   ],
   "source": [
    "n_pares = [n for n in range(201) if n % 2 == 0]\n",
    "print(n_pares)"
   ]
  },
  {
   "cell_type": "markdown",
   "metadata": {},
   "source": [
    "### 3. Use a list comprehension to create a list with the same elements rounded to 2 decimal positions."
   ]
  },
  {
   "cell_type": "code",
   "execution_count": 10,
   "metadata": {},
   "outputs": [],
   "source": [
    "a = [\n",
    "    0.84062117, 0.48006452, 0.7876326 , 0.77109654,\n",
    "    0.44409793, 0.09014516, 0.81835917, 0.87645456,\n",
    "    0.7066597 , 0.09610873, 0.41247947, 0.57433389,\n",
    "    0.29960807, 0.42315023, 0.34452557, 0.4751035 ,\n",
    "    0.17003563, 0.46843998, 0.92796258, 0.69814654,\n",
    "    0.41290051, 0.19561071, 0.16284783, 0.97016248,\n",
    "    0.71725408, 0.87702738, 0.31244595, 0.76615487,\n",
    "    0.20754036, 0.57871812, 0.07214068, 0.40356048,\n",
    "    0.12149553, 0.53222417, 0.9976855 , 0.12536346,\n",
    "    0.80930099, 0.50962849, 0.94555126, 0.33364763\n",
    "]"
   ]
  },
  {
   "cell_type": "code",
   "execution_count": 12,
   "metadata": {},
   "outputs": [
    {
     "name": "stdout",
     "output_type": "stream",
     "text": [
      "[0.84, 0.48, 0.79, 0.77, 0.44, 0.09, 0.82, 0.88, 0.71, 0.1, 0.41, 0.57, 0.3, 0.42, 0.34, 0.48, 0.17, 0.47, 0.93, 0.7, 0.41, 0.2, 0.16, 0.97, 0.72, 0.88, 0.31, 0.77, 0.21, 0.58, 0.07, 0.4, 0.12, 0.53, 1.0, 0.13, 0.81, 0.51, 0.95, 0.33]\n"
     ]
    }
   ],
   "source": [
    "a = [\n",
    "    0.84062117, 0.48006452, 0.7876326 , 0.77109654,\n",
    "    0.44409793, 0.09014516, 0.81835917, 0.87645456,\n",
    "    0.7066597 , 0.09610873, 0.41247947, 0.57433389,\n",
    "    0.29960807, 0.42315023, 0.34452557, 0.4751035 ,\n",
    "    0.17003563, 0.46843998, 0.92796258, 0.69814654,\n",
    "    0.41290051, 0.19561071, 0.16284783, 0.97016248,\n",
    "    0.71725408, 0.87702738, 0.31244595, 0.76615487,\n",
    "    0.20754036, 0.57871812, 0.07214068, 0.40356048,\n",
    "    0.12149553, 0.53222417, 0.9976855 , 0.12536346,\n",
    "    0.80930099, 0.50962849, 0.94555126, 0.33364763\n",
    "]\n",
    "\n",
    "redondeo = [round(n,2) for n in a]\n",
    "print(redondeo)"
   ]
  },
  {
   "cell_type": "markdown",
   "metadata": {},
   "source": [
    "### 3b. Add a condition to the list comprehension above so that only a sublist with values greater than or equal to 0.6 are considered."
   ]
  },
  {
   "cell_type": "code",
   "execution_count": 15,
   "metadata": {},
   "outputs": [
    {
     "name": "stdout",
     "output_type": "stream",
     "text": [
      "[0.84, 0.79, 0.77, 0.82, 0.88, 0.71, 0.93, 0.7, 0.97, 0.72, 0.88, 0.77, 1.0, 0.81, 0.95]\n"
     ]
    }
   ],
   "source": [
    "a = [\n",
    "    0.84062117, 0.48006452, 0.7876326 , 0.77109654,\n",
    "    0.44409793, 0.09014516, 0.81835917, 0.87645456,\n",
    "    0.7066597 , 0.09610873, 0.41247947, 0.57433389,\n",
    "    0.29960807, 0.42315023, 0.34452557, 0.4751035 ,\n",
    "    0.17003563, 0.46843998, 0.92796258, 0.69814654,\n",
    "    0.41290051, 0.19561071, 0.16284783, 0.97016248,\n",
    "    0.71725408, 0.87702738, 0.31244595, 0.76615487,\n",
    "    0.20754036, 0.57871812, 0.07214068, 0.40356048,\n",
    "    0.12149553, 0.53222417, 0.9976855 , 0.12536346,\n",
    "    0.80930099, 0.50962849, 0.94555126, 0.33364763\n",
    "]\n",
    "\n",
    "redondeo_2 = [round(n,2) for n in a if round(n,2)>0.6]\n",
    "print(redondeo_2)"
   ]
  },
  {
   "cell_type": "markdown",
   "metadata": {},
   "source": [
    "### 4. Use a list comprehension to increase all ages in the list by 4 years."
   ]
  },
  {
   "cell_type": "code",
   "execution_count": 17,
   "metadata": {},
   "outputs": [],
   "source": [
    "ages = [17, 29, 12, 88, 30, 55]"
   ]
  },
  {
   "cell_type": "code",
   "execution_count": 18,
   "metadata": {},
   "outputs": [
    {
     "name": "stdout",
     "output_type": "stream",
     "text": [
      "[21, 33, 16, 92, 34, 59]\n"
     ]
    }
   ],
   "source": [
    "ages_2 = [age + 4 for age in ages]\n",
    "print(ages_2)\n"
   ]
  },
  {
   "cell_type": "markdown",
   "metadata": {},
   "source": [
    "### 5. Create this list [-10,-9,-8,-7,-6,-5,-4,-3,-2,-1,0] using list comprehension"
   ]
  },
  {
   "cell_type": "code",
   "execution_count": 30,
   "metadata": {},
   "outputs": [
    {
     "name": "stdout",
     "output_type": "stream",
     "text": [
      "[-10, -9, -8, -7, -6, -5, -4, -3, -2, -1, 0]\n"
     ]
    }
   ],
   "source": [
    "numbers = [n*-1 for n in range(0,11)]\n",
    "\n",
    "numbers.reverse()\n",
    "print(numbers)"
   ]
  },
  {
   "cell_type": "markdown",
   "metadata": {},
   "source": [
    "### 6. Calculate the square root of the first 100 numbers. \n",
    "You will probably need to install math library with pip and import it in this file.  \n",
    "Remember to use list comprehensions and to print your results"
   ]
  },
  {
   "cell_type": "code",
   "execution_count": 32,
   "metadata": {},
   "outputs": [
    {
     "name": "stdout",
     "output_type": "stream",
     "text": [
      "[0.0, 1.0, 1.41, 1.73, 2.0, 2.24, 2.45, 2.65, 2.83, 3.0, 3.16, 3.32, 3.46, 3.61, 3.74, 3.87, 4.0, 4.12, 4.24, 4.36, 4.47, 4.58, 4.69, 4.8, 4.9, 5.0, 5.1, 5.2, 5.29, 5.39, 5.48, 5.57, 5.66, 5.74, 5.83, 5.92, 6.0, 6.08, 6.16, 6.24, 6.32, 6.4, 6.48, 6.56, 6.63, 6.71, 6.78, 6.86, 6.93, 7.0, 7.07, 7.14, 7.21, 7.28, 7.35, 7.42, 7.48, 7.55, 7.62, 7.68, 7.75, 7.81, 7.87, 7.94, 8.0, 8.06, 8.12, 8.19, 8.25, 8.31, 8.37, 8.43, 8.49, 8.54, 8.6, 8.66, 8.72, 8.77, 8.83, 8.89, 8.94, 9.0, 9.06, 9.11, 9.17, 9.22, 9.27, 9.33, 9.38, 9.43, 9.49, 9.54, 9.59, 9.64, 9.7, 9.75, 9.8, 9.85, 9.9, 9.95, 10.0]\n"
     ]
    }
   ],
   "source": [
    "import math\n",
    "\n",
    "\n",
    "raiz = [round(math.sqrt(n),2) for n in range(101)]\n",
    "print(raiz)"
   ]
  },
  {
   "cell_type": "markdown",
   "metadata": {},
   "source": [
    "### 7. Find the capital letters (and not white space) in the sentence 'The Quick Brown Fox Jumped Over The Lazy Dog'. \n",
    "Remember to use list comprehensions and to print your results"
   ]
  },
  {
   "cell_type": "code",
   "execution_count": 4,
   "metadata": {},
   "outputs": [],
   "source": [
    "sentence = \"The Quick Brown Fox Jumped Over The Lazy Dog\""
   ]
  },
  {
   "cell_type": "code",
   "execution_count": 172,
   "metadata": {},
   "outputs": [
    {
     "name": "stdout",
     "output_type": "stream",
     "text": [
      "\n",
      "['T', 'Q', 'B', 'F', 'J', 'O', 'T', 'L', 'D']\n"
     ]
    }
   ],
   "source": [
    "sentence = \"The Quick Brown Fox Jumped Over The Lazy Dog\"\n",
    "print()\n",
    "#frase=[c.split(\" \")[0] for c in sentence if c == c.upper()]\n",
    "frase=[c for c in sentence if c == c.upper() if c!=\" \"]\n",
    "print(frase)"
   ]
  },
  {
   "cell_type": "markdown",
   "metadata": {},
   "source": [
    "## 8. Create 4 lists of 10 random numbers between 0 and 100 each. \n",
    "You will probably need to import random module    \n",
    "Remember to use list comprehensions and to print your results"
   ]
  },
  {
   "cell_type": "code",
   "execution_count": 104,
   "metadata": {},
   "outputs": [
    {
     "name": "stdout",
     "output_type": "stream",
     "text": [
      "La lista nueva es: [[83, 68, 52, 41, 71, 91, 31, 33, 12, 7], [2, 87, 19, 20, 30, 6, 22, 53, 75, 3], [94, 21, 86, 50, 1, 84, 57, 5, 67, 82], [97, 77, 70, 1, 61, 30, 81, 75, 60, 14]]\n"
     ]
    }
   ],
   "source": [
    "import random as rd\n",
    "\n",
    "lista = []\n",
    "\n",
    "#for v in range(4):\n",
    "#    for n in range(10):\n",
    "#        n = lista.append(rd.randint(0,100))\n",
    "        \n",
    "\n",
    "\n",
    "lista_4 = [[rd.randint(0,100) for v in range(10)] for n in range(4)]\n",
    "print(f\"La lista nueva es: {lista_4}\")"
   ]
  },
  {
   "cell_type": "markdown",
   "metadata": {},
   "source": [
    "## 9. Flatten the following list of lists. Use flatten_list as the name of the output.\n",
    "Remember to use list comprehensions and to print your results\n"
   ]
  },
  {
   "cell_type": "code",
   "execution_count": 5,
   "metadata": {},
   "outputs": [],
   "source": [
    "list_of_lists = [[1,2,3],[4,5,6],[7,8,9]]"
   ]
  },
  {
   "cell_type": "code",
   "execution_count": 8,
   "metadata": {},
   "outputs": [
    {
     "name": "stdout",
     "output_type": "stream",
     "text": [
      "[1, 2, 3, 4, 5, 6, 7, 8, 9]\n"
     ]
    }
   ],
   "source": [
    "list_of_lists = [[1,2,3],[4,5,6],[7,8,9]]\n",
    "\n",
    "\n",
    "#a=[]\n",
    "#for li in list_of_lists:\n",
    "#    for v in li:\n",
    "#        a.append(v)\n",
    "        \n",
    "#print(a)\n",
    "#a=[]\n",
    "#ll=[ll.append(v) for li in list_of_lists for v in li]\n",
    "#print(ll)\n",
    "\n",
    "lista = [num for i in list_of_lists for num in i]\n",
    "print (lista)\n"
   ]
  },
  {
   "cell_type": "markdown",
   "metadata": {},
   "source": [
    "### 10. Use a dict comprehension which has: one key per element on list `lst`, and as values is the first letter of the given word."
   ]
  },
  {
   "cell_type": "code",
   "execution_count": 144,
   "metadata": {},
   "outputs": [
    {
     "name": "stdout",
     "output_type": "stream",
     "text": [
      "{'table': 't', 'chair': 'c', 'mouse': 'm', 'slack': 's', 'tree': 't'}\n"
     ]
    }
   ],
   "source": [
    "lst = [\"table\", \"chair\", \"mouse\", \"slack\", \"tree\"]\n",
    "\n",
    "wdict = {w:w[0] for w in lst}\n",
    "print(wdict)"
   ]
  },
  {
   "cell_type": "markdown",
   "metadata": {},
   "source": [
    "### 11. Use a dict comprehension which has: one key per element on list `lst` if the word starts with \"t\", and as values the given word in upper case."
   ]
  },
  {
   "cell_type": "code",
   "execution_count": 154,
   "metadata": {},
   "outputs": [
    {
     "name": "stdout",
     "output_type": "stream",
     "text": [
      "{'t': 'TREE'}\n"
     ]
    }
   ],
   "source": [
    "lst = [\"table\", \"chair\", \"mouse\", \"slack\", \"tree\"]\n",
    "\n",
    "wdict = {w[0]:w.upper() for w in lst if w[0]==\"t\"}\n",
    "print(wdict)"
   ]
  },
  {
   "cell_type": "markdown",
   "metadata": {},
   "source": [
    "### 12. Use a dict comprehension to \"invert\" the following dictionary."
   ]
  },
  {
   "cell_type": "code",
   "execution_count": 163,
   "metadata": {},
   "outputs": [],
   "source": [
    "capitals = {\n",
    "    \"Spain\": \"Madrid\",\n",
    "    \"Portugal\": \"Lisbon\",\n",
    "    \"France\": \"Paris\"\n",
    "}"
   ]
  },
  {
   "cell_type": "code",
   "execution_count": 165,
   "metadata": {},
   "outputs": [
    {
     "name": "stdout",
     "output_type": "stream",
     "text": [
      "{'Madrid': 'Spain', 'Lisbon': 'Portugal', 'Paris': 'France'}\n"
     ]
    }
   ],
   "source": [
    "invert_dict = {value: key for key, value in capitals.items()}\n",
    "print(invert_dict)"
   ]
  },
  {
   "cell_type": "markdown",
   "metadata": {},
   "source": [
    "### 13. Do you see any possible problem on the procedure of \"inverting\" a dictionary? Explain in a Markdown cell."
   ]
  },
  {
   "cell_type": "markdown",
   "metadata": {},
   "source": [
    "Si, que se puede tener values repetidos pero no keys, y al invertirlo tendriamos keys repetidas."
   ]
  },
  {
   "cell_type": "code",
   "execution_count": null,
   "metadata": {},
   "outputs": [],
   "source": [
    "si, que puede haber valores repetidos pero no llaves, y al invertirlo podemos generar este problema\n"
   ]
  }
 ],
 "metadata": {
  "kernelspec": {
   "display_name": "Python 3",
   "language": "python",
   "name": "python3"
  },
  "language_info": {
   "codemirror_mode": {
    "name": "ipython",
    "version": 3
   },
   "file_extension": ".py",
   "mimetype": "text/x-python",
   "name": "python",
   "nbconvert_exporter": "python",
   "pygments_lexer": "ipython3",
   "version": "3.8.5"
  },
  "toc": {
   "base_numbering": 1,
   "nav_menu": {},
   "number_sections": false,
   "sideBar": true,
   "skip_h1_title": false,
   "title_cell": "Table of Contents",
   "title_sidebar": "Contents",
   "toc_cell": false,
   "toc_position": {
    "height": "calc(100% - 180px)",
    "left": "10px",
    "top": "150px",
    "width": "256px"
   },
   "toc_section_display": true,
   "toc_window_display": false
  },
  "varInspector": {
   "cols": {
    "lenName": 16,
    "lenType": 16,
    "lenVar": 40
   },
   "kernels_config": {
    "python": {
     "delete_cmd_postfix": "",
     "delete_cmd_prefix": "del ",
     "library": "var_list.py",
     "varRefreshCmd": "print(var_dic_list())"
    },
    "r": {
     "delete_cmd_postfix": ") ",
     "delete_cmd_prefix": "rm(",
     "library": "var_list.r",
     "varRefreshCmd": "cat(var_dic_list()) "
    }
   },
   "types_to_exclude": [
    "module",
    "function",
    "builtin_function_or_method",
    "instance",
    "_Feature"
   ],
   "window_display": false
  }
 },
 "nbformat": 4,
 "nbformat_minor": 2
}
